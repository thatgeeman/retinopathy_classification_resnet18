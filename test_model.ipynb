{
 "cells": [
  {
   "cell_type": "code",
   "execution_count": 1,
   "id": "f1f50de9",
   "metadata": {},
   "outputs": [
    {
     "name": "stderr",
     "output_type": "stream",
     "text": [
      "/home/gg/.local/share/virtualenvs/retinopathy_classification_resnet18-9y4wbSZa/lib/python3.8/site-packages/tqdm/auto.py:22: TqdmWarning: IProgress not found. Please update jupyter and ipywidgets. See https://ipywidgets.readthedocs.io/en/stable/user_install.html\n",
      "  from .autonotebook import tqdm as notebook_tqdm\n"
     ]
    }
   ],
   "source": [
    "from model import resnet_block, ConvBnAct, ResNet18\n",
    "from utils import update_model_wt, set_seed\n",
    "from collections import OrderedDict\n",
    "from fastcore.utils import noop"
   ]
  },
  {
   "cell_type": "code",
   "execution_count": 2,
   "id": "cfbb1bb7",
   "metadata": {},
   "outputs": [],
   "source": [
    "import torch\n",
    "from torch import nn\n",
    "from torchvision.models import resnet18"
   ]
  },
  {
   "cell_type": "code",
   "execution_count": 3,
   "id": "65dccb49",
   "metadata": {},
   "outputs": [],
   "source": [
    "set_seed()"
   ]
  },
  {
   "cell_type": "code",
   "execution_count": 4,
   "id": "db62b09e",
   "metadata": {},
   "outputs": [],
   "source": [
    "inp = torch.randn(5, 3, 224, 224)"
   ]
  },
  {
   "cell_type": "code",
   "execution_count": 5,
   "id": "fae72005",
   "metadata": {},
   "outputs": [],
   "source": [
    "model_gem = ResNet18(n_cls=10)"
   ]
  },
  {
   "cell_type": "code",
   "execution_count": 6,
   "id": "69c0bd5d",
   "metadata": {},
   "outputs": [
    {
     "data": {
      "text/plain": [
       "tensor([[-0.0732, -1.3212,  0.1588, -0.3880,  0.6878,  1.7276, -2.0731,  0.5310,\n",
       "          0.2525,  0.1851],\n",
       "        [-0.2888, -1.4897,  0.1330, -0.2777,  0.8336,  1.5032, -2.1334,  0.3064,\n",
       "          0.5680,  0.3668],\n",
       "        [-0.3781, -1.5451,  0.1156, -0.2519,  0.6058,  1.6319, -2.0664,  0.3481,\n",
       "          0.4720,  0.1412],\n",
       "        [-0.0925, -1.3294,  0.1398, -0.3579,  0.7980,  1.4543, -1.9582,  0.6035,\n",
       "          0.4494,  0.2037],\n",
       "        [-0.4258, -1.4692,  0.0358, -0.3029,  0.7881,  1.4945, -1.8997,  0.6500,\n",
       "          0.3332,  0.2942]], grad_fn=<AddmmBackward0>)"
      ]
     },
     "execution_count": 6,
     "metadata": {},
     "output_type": "execute_result"
    }
   ],
   "source": [
    "model_gem(inp)"
   ]
  },
  {
   "cell_type": "code",
   "execution_count": 7,
   "id": "92231ee9",
   "metadata": {},
   "outputs": [
    {
     "data": {
      "text/plain": [
       "torch.Size([5, 10])"
      ]
     },
     "execution_count": 7,
     "metadata": {},
     "output_type": "execute_result"
    }
   ],
   "source": [
    "model_gem(inp).shape"
   ]
  },
  {
   "cell_type": "markdown",
   "id": "520ca9fc",
   "metadata": {},
   "source": [
    "Modifying the Resnet Class pooling layer."
   ]
  },
  {
   "cell_type": "code",
   "execution_count": 8,
   "id": "f43bfa49",
   "metadata": {},
   "outputs": [],
   "source": [
    "class ResNet18(nn.Module):\n",
    "    \"\"\"Modified the pooling layer\"\"\"\n",
    "    def __init__(self, n_cls=2):\n",
    "        super(ResNet18, self).__init__()\n",
    "        params = dict(in_ch=3, out_ch=64, k=7, s=2, p=3)  # GoogLeNet\n",
    "        # x = [B, 3, 32, 32]\n",
    "        self.l1 = nn.Sequential(ConvBnAct(**params),\n",
    "                                nn.MaxPool2d(kernel_size=3, stride=2, padding=1))  # -> [B, 512, 16, 16]\n",
    "        self.l2 = nn.Sequential(OrderedDict(resnet_block(64, 64, 2, first_block=True)))  # -> [B, 64, 8, 8]\n",
    "        self.l3 = nn.Sequential(OrderedDict(resnet_block(64, 128, 2)))  # -> [B, 128, 4, 4]\n",
    "        self.l4 = nn.Sequential(OrderedDict(resnet_block(128, 256, 2)))  # -> [B, 256, 2, 2]\n",
    "        self.l5 = nn.Sequential(OrderedDict(resnet_block(256, 512, 2)))  # -> [B, 512, 1, 1]\n",
    "        self.pool = nn.AdaptiveAvgPool2d((1,1))\n",
    "        self.flat = nn.Flatten()\n",
    "        self.fc = nn.Linear(512, n_cls, bias=True)  # -> [512, n_cls]\n",
    "\n",
    "    def forward(self, x):\n",
    "        x = self.l5(self.l4(self.l3(self.l2(self.l1(x)))))\n",
    "        return self.fc(self.flat(self.pool(x)))"
   ]
  },
  {
   "cell_type": "code",
   "execution_count": 9,
   "id": "4fe95f37",
   "metadata": {},
   "outputs": [],
   "source": [
    "model_adaptive = ResNet18(n_cls=10)"
   ]
  },
  {
   "cell_type": "code",
   "execution_count": 10,
   "id": "c80df9af",
   "metadata": {},
   "outputs": [
    {
     "data": {
      "text/plain": [
       "torch.Size([5, 10])"
      ]
     },
     "execution_count": 10,
     "metadata": {},
     "output_type": "execute_result"
    }
   ],
   "source": [
    "model_adaptive(inp).shape"
   ]
  },
  {
   "cell_type": "code",
   "execution_count": 11,
   "id": "3accf86b",
   "metadata": {},
   "outputs": [
    {
     "data": {
      "text/plain": [
       "ResNet18(\n",
       "  (l1): Sequential(\n",
       "    (0): ConvBnAct(\n",
       "      (conv): Conv2d(3, 64, kernel_size=(7, 7), stride=(2, 2), padding=(3, 3), bias=False)\n",
       "      (bn): BatchNorm2d(64, eps=1e-05, momentum=0.1, affine=True, track_running_stats=True)\n",
       "      (act_fn): ReLU(inplace=True)\n",
       "    )\n",
       "    (1): MaxPool2d(kernel_size=3, stride=2, padding=1, dilation=1, ceil_mode=False)\n",
       "  )\n",
       "  (l2): Sequential(\n",
       "    (reg_blk0): BasicResBlock(\n",
       "      (conv1): ConvBnAct(\n",
       "        (conv): Conv2d(64, 64, kernel_size=(3, 3), stride=(1, 1), padding=(1, 1), bias=False)\n",
       "        (bn): BatchNorm2d(64, eps=1e-05, momentum=0.1, affine=True, track_running_stats=True)\n",
       "        (act_fn): ReLU(inplace=True)\n",
       "      )\n",
       "      (conv2): ConvBnAct(\n",
       "        (conv): Conv2d(64, 64, kernel_size=(3, 3), stride=(1, 1), padding=(1, 1), bias=False)\n",
       "        (bn): BatchNorm2d(64, eps=1e-05, momentum=0.1, affine=True, track_running_stats=True)\n",
       "      )\n",
       "    )\n",
       "    (reg_blk1): BasicResBlock(\n",
       "      (conv1): ConvBnAct(\n",
       "        (conv): Conv2d(64, 64, kernel_size=(3, 3), stride=(1, 1), padding=(1, 1), bias=False)\n",
       "        (bn): BatchNorm2d(64, eps=1e-05, momentum=0.1, affine=True, track_running_stats=True)\n",
       "        (act_fn): ReLU(inplace=True)\n",
       "      )\n",
       "      (conv2): ConvBnAct(\n",
       "        (conv): Conv2d(64, 64, kernel_size=(3, 3), stride=(1, 1), padding=(1, 1), bias=False)\n",
       "        (bn): BatchNorm2d(64, eps=1e-05, momentum=0.1, affine=True, track_running_stats=True)\n",
       "      )\n",
       "    )\n",
       "  )\n",
       "  (l3): Sequential(\n",
       "    (conv_blk0): ConvResBlock(\n",
       "      (conv1): ConvBnAct(\n",
       "        (conv): Conv2d(64, 128, kernel_size=(3, 3), stride=(2, 2), padding=(1, 1), bias=False)\n",
       "        (bn): BatchNorm2d(128, eps=1e-05, momentum=0.1, affine=True, track_running_stats=True)\n",
       "        (act_fn): ReLU(inplace=True)\n",
       "      )\n",
       "      (conv2): ConvBnAct(\n",
       "        (conv): Conv2d(128, 128, kernel_size=(3, 3), stride=(1, 1), padding=(1, 1), bias=False)\n",
       "        (bn): BatchNorm2d(128, eps=1e-05, momentum=0.1, affine=True, track_running_stats=True)\n",
       "      )\n",
       "      (dsample): ConvBnAct(\n",
       "        (conv): Conv2d(64, 128, kernel_size=(1, 1), stride=(2, 2), bias=False)\n",
       "      )\n",
       "    )\n",
       "    (reg_blk1): BasicResBlock(\n",
       "      (conv1): ConvBnAct(\n",
       "        (conv): Conv2d(128, 128, kernel_size=(3, 3), stride=(1, 1), padding=(1, 1), bias=False)\n",
       "        (bn): BatchNorm2d(128, eps=1e-05, momentum=0.1, affine=True, track_running_stats=True)\n",
       "        (act_fn): ReLU(inplace=True)\n",
       "      )\n",
       "      (conv2): ConvBnAct(\n",
       "        (conv): Conv2d(128, 128, kernel_size=(3, 3), stride=(1, 1), padding=(1, 1), bias=False)\n",
       "        (bn): BatchNorm2d(128, eps=1e-05, momentum=0.1, affine=True, track_running_stats=True)\n",
       "      )\n",
       "    )\n",
       "  )\n",
       "  (l4): Sequential(\n",
       "    (conv_blk0): ConvResBlock(\n",
       "      (conv1): ConvBnAct(\n",
       "        (conv): Conv2d(128, 256, kernel_size=(3, 3), stride=(2, 2), padding=(1, 1), bias=False)\n",
       "        (bn): BatchNorm2d(256, eps=1e-05, momentum=0.1, affine=True, track_running_stats=True)\n",
       "        (act_fn): ReLU(inplace=True)\n",
       "      )\n",
       "      (conv2): ConvBnAct(\n",
       "        (conv): Conv2d(256, 256, kernel_size=(3, 3), stride=(1, 1), padding=(1, 1), bias=False)\n",
       "        (bn): BatchNorm2d(256, eps=1e-05, momentum=0.1, affine=True, track_running_stats=True)\n",
       "      )\n",
       "      (dsample): ConvBnAct(\n",
       "        (conv): Conv2d(128, 256, kernel_size=(1, 1), stride=(2, 2), bias=False)\n",
       "      )\n",
       "    )\n",
       "    (reg_blk1): BasicResBlock(\n",
       "      (conv1): ConvBnAct(\n",
       "        (conv): Conv2d(256, 256, kernel_size=(3, 3), stride=(1, 1), padding=(1, 1), bias=False)\n",
       "        (bn): BatchNorm2d(256, eps=1e-05, momentum=0.1, affine=True, track_running_stats=True)\n",
       "        (act_fn): ReLU(inplace=True)\n",
       "      )\n",
       "      (conv2): ConvBnAct(\n",
       "        (conv): Conv2d(256, 256, kernel_size=(3, 3), stride=(1, 1), padding=(1, 1), bias=False)\n",
       "        (bn): BatchNorm2d(256, eps=1e-05, momentum=0.1, affine=True, track_running_stats=True)\n",
       "      )\n",
       "    )\n",
       "  )\n",
       "  (l5): Sequential(\n",
       "    (conv_blk0): ConvResBlock(\n",
       "      (conv1): ConvBnAct(\n",
       "        (conv): Conv2d(256, 512, kernel_size=(3, 3), stride=(2, 2), padding=(1, 1), bias=False)\n",
       "        (bn): BatchNorm2d(512, eps=1e-05, momentum=0.1, affine=True, track_running_stats=True)\n",
       "        (act_fn): ReLU(inplace=True)\n",
       "      )\n",
       "      (conv2): ConvBnAct(\n",
       "        (conv): Conv2d(512, 512, kernel_size=(3, 3), stride=(1, 1), padding=(1, 1), bias=False)\n",
       "        (bn): BatchNorm2d(512, eps=1e-05, momentum=0.1, affine=True, track_running_stats=True)\n",
       "      )\n",
       "      (dsample): ConvBnAct(\n",
       "        (conv): Conv2d(256, 512, kernel_size=(1, 1), stride=(2, 2), bias=False)\n",
       "      )\n",
       "    )\n",
       "    (reg_blk1): BasicResBlock(\n",
       "      (conv1): ConvBnAct(\n",
       "        (conv): Conv2d(512, 512, kernel_size=(3, 3), stride=(1, 1), padding=(1, 1), bias=False)\n",
       "        (bn): BatchNorm2d(512, eps=1e-05, momentum=0.1, affine=True, track_running_stats=True)\n",
       "        (act_fn): ReLU(inplace=True)\n",
       "      )\n",
       "      (conv2): ConvBnAct(\n",
       "        (conv): Conv2d(512, 512, kernel_size=(3, 3), stride=(1, 1), padding=(1, 1), bias=False)\n",
       "        (bn): BatchNorm2d(512, eps=1e-05, momentum=0.1, affine=True, track_running_stats=True)\n",
       "      )\n",
       "    )\n",
       "  )\n",
       "  (pool): AdaptiveAvgPool2d(output_size=(1, 1))\n",
       "  (flat): Flatten(start_dim=1, end_dim=-1)\n",
       "  (fc): Linear(in_features=512, out_features=10, bias=True)\n",
       ")"
      ]
     },
     "execution_count": 11,
     "metadata": {},
     "output_type": "execute_result"
    }
   ],
   "source": [
    "model_adaptive"
   ]
  },
  {
   "cell_type": "code",
   "execution_count": null,
   "id": "bdb2f2e4",
   "metadata": {},
   "outputs": [],
   "source": []
  },
  {
   "cell_type": "code",
   "execution_count": null,
   "id": "1fe6ed6c",
   "metadata": {},
   "outputs": [],
   "source": []
  },
  {
   "cell_type": "code",
   "execution_count": null,
   "id": "ab6cad7a",
   "metadata": {},
   "outputs": [],
   "source": []
  }
 ],
 "metadata": {
  "kernelspec": {
   "display_name": "retinopathy",
   "language": "python",
   "name": "retinopathy"
  },
  "language_info": {
   "codemirror_mode": {
    "name": "ipython",
    "version": 3
   },
   "file_extension": ".py",
   "mimetype": "text/x-python",
   "name": "python",
   "nbconvert_exporter": "python",
   "pygments_lexer": "ipython3",
   "version": "3.8.0"
  }
 },
 "nbformat": 4,
 "nbformat_minor": 5
}
